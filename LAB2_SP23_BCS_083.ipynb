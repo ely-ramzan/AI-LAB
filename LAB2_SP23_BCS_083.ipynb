{
  "nbformat": 4,
  "nbformat_minor": 0,
  "metadata": {
    "colab": {
      "provenance": []
    },
    "kernelspec": {
      "name": "python3",
      "display_name": "Python 3"
    },
    "language_info": {
      "name": "python"
    }
  },
  "cells": [
    {
      "cell_type": "markdown",
      "source": [
        "# Activity 01"
      ],
      "metadata": {
        "id": "iwJehSW8Gb78"
      }
    },
    {
      "cell_type": "code",
      "execution_count": 1,
      "metadata": {
        "colab": {
          "base_uri": "https://localhost:8080/"
        },
        "id": "FU5E3-OPEi4g",
        "outputId": "36b450c0-c535-4daa-cd40-481b4dabb5c7"
      },
      "outputs": [
        {
          "output_type": "stream",
          "name": "stdout",
          "text": [
            "Enter objects of first list...\n",
            "Enter a value: 5\n",
            "Enter a value: 10\n",
            "Enter a value: 11\n",
            "Enter a value: 1\n",
            "Enter a value: 15\n",
            "Enter objects of second list...\n",
            "Enter a value: 11\n",
            "Enter a value: 22\n",
            "Enter a value: 33\n",
            "Enter a value: 44\n",
            "Enter a value: 55\n",
            "[5, 10, 11, 1, 15, 11, 22, 33, 44, 55]\n"
          ]
        }
      ],
      "source": [
        "myList1 = []\n",
        "print(\"Enter objects of first list...\")\n",
        "for i in range(5):\n",
        "    val = input(\"Enter a value: \")\n",
        "    n = int(val)\n",
        "    myList1.append(n)\n",
        "myList2 = []\n",
        "print(\"Enter objects of second list...\")\n",
        "for i in range(5):\n",
        "    val = input(\"Enter a value: \")\n",
        "    n = int(val)\n",
        "    myList2.append(n)\n",
        "list3 = myList1 + myList2\n",
        "print(list3)"
      ]
    },
    {
      "cell_type": "markdown",
      "source": [
        "# Activity 02"
      ],
      "metadata": {
        "id": "VDPh4r4UGfnC"
      }
    },
    {
      "cell_type": "code",
      "source": [
        "def isPalindrome(word):\n",
        "    temp = word[::-1]\n",
        "    if temp.capitalize() == word.capitalize():\n",
        "        return True\n",
        "    else:\n",
        "        return False\n",
        "print(isPalindrome(\"deed\"))"
      ],
      "metadata": {
        "id": "wkof8hIqGht0"
      },
      "execution_count": null,
      "outputs": []
    },
    {
      "cell_type": "markdown",
      "source": [
        "# Activity 03"
      ],
      "metadata": {
        "id": "vn-Mlx75Gh8K"
      }
    },
    {
      "cell_type": "code",
      "source": [
        "a = [[1, 2, 3], [4, 5, 6], [7, 8, 9]]\n",
        "b = [[9, 8, 7], [6, 5, 4], [3, 2, 1]]\n",
        "c = []\n",
        "for indrow in range(3):\n",
        "    c.append([])\n",
        "    for indcol in range(3):\n",
        "        c[indrow].append(0)\n",
        "    for indaux in range(3):\n",
        "        c[indrow][indcol] += a[indrow][indaux] * b[indaux][indcol]\n",
        "print(c)"
      ],
      "metadata": {
        "colab": {
          "base_uri": "https://localhost:8080/"
        },
        "id": "9t8DMC3yGj0H",
        "outputId": "cee3058f-ad28-4428-f58f-37553bb58b80"
      },
      "execution_count": 4,
      "outputs": [
        {
          "output_type": "stream",
          "name": "stdout",
          "text": [
            "[[0, 0, 18], [0, 0, 54], [0, 0, 90]]\n"
          ]
        }
      ]
    },
    {
      "cell_type": "markdown",
      "source": [
        "# Activity 04"
      ],
      "metadata": {
        "id": "U2bCt0LmGkF6"
      }
    },
    {
      "cell_type": "code",
      "source": [
        "def perimeter(listing):\n",
        "    leng = len(listing)\n",
        "    perimeter = 0\n",
        "    for i in range(0, leng-1):\n",
        "        dist = (((listing[i][0]-listing[i+1][0])**2) + ((listing[i][1]-listing[i+1][1])**2))**0.5\n",
        "        perimeter = perimeter + dist\n",
        "    perimeter = perimeter + (((listing[0][0]-listing[leng-1][0])**2) + ((listing[0][1]-listing[leng-1][1])**2))**0.5\n",
        "    return perimeter\n",
        "L = [(1,3), (2,7), (3,9), (-1,8)]\n",
        "print(perimeter(L))"
      ],
      "metadata": {
        "colab": {
          "base_uri": "https://localhost:8080/"
        },
        "id": "wT0V2IkxGl16",
        "outputId": "ad1b5c9f-ad77-438b-c2f8-38b1e8526155"
      },
      "execution_count": 5,
      "outputs": [
        {
          "output_type": "stream",
          "name": "stdout",
          "text": [
            "15.867444035869614\n"
          ]
        }
      ]
    },
    {
      "cell_type": "markdown",
      "source": [
        "# Activity 05"
      ],
      "metadata": {
        "id": "zyQSeOxLGmEz"
      }
    },
    {
      "cell_type": "code",
      "source": [
        "def symmDiff(a, b):\n",
        "    e = set()\n",
        "    for i in a:\n",
        "        if i not in b:\n",
        "            e.add(i)\n",
        "    for i in b:\n",
        "        if i not in a:\n",
        "            e.add(i)\n",
        "    return e\n",
        "set1 = {0, 1, 2, 4, 5}\n",
        "set2 = {4, 5, 7, 8, 9}\n",
        "print(symmDiff(set1, set2))"
      ],
      "metadata": {
        "id": "KzERXkB3Gnxg"
      },
      "execution_count": null,
      "outputs": []
    },
    {
      "cell_type": "markdown",
      "source": [
        "# Activity 06"
      ],
      "metadata": {
        "id": "Jix2EjiCGo42"
      }
    },
    {
      "cell_type": "code",
      "source": [
        "sample = {(\"sohaib\", \"ali\"): \"0246585468445\", (\"aib\", \"li\"): \"02465854645\", (\"sib\", \"ai\"): \"0246585468445\"}\n",
        "firstName = input(\"enter first name\\t\")\n",
        "lastName = input(\"enter last name\\t\")\n",
        "searchTuple = (firstName, lastName)\n",
        "if searchTuple in sample:\n",
        "    print(sample[searchTuple])\n",
        "else:\n",
        "    print(\"name not found\")\n",
        ""
      ],
      "metadata": {
        "colab": {
          "base_uri": "https://localhost:8080/"
        },
        "id": "otf-fUGnGn6G",
        "outputId": "0b2280a2-8e21-446e-acd9-098be2283c3b"
      },
      "execution_count": 4,
      "outputs": [
        {
          "output_type": "stream",
          "name": "stdout",
          "text": [
            "enter first name\tali\n",
            "enter last name\tramzan\n",
            "name not found\n"
          ]
        }
      ]
    },
    {
      "cell_type": "markdown",
      "source": [
        "# Lab tasks 01"
      ],
      "metadata": {
        "id": "tIfOsSArTcmb"
      }
    },
    {
      "cell_type": "code",
      "source": [
        "list1 = []\n",
        "list2 = []\n",
        "merged_list = []\n",
        "while True:\n",
        "  s = input(\"Enter values for list 1:\\t\")\n",
        "  num = int(s)\n",
        "  if num < 0:\n",
        "    break;\n",
        "  list1.append(num)\n",
        "while True:\n",
        "  s = input(\"Enter values for list 2:\\t\")\n",
        "  num = int(s)\n",
        "  if num < 0:\n",
        "    break;\n",
        "  list2.append(num)\n",
        "\n",
        "merged_list = list1 + list2\n",
        "merged_list.sort()\n",
        "for i in merged_list:\n",
        "  print(i)\n"
      ],
      "metadata": {
        "colab": {
          "base_uri": "https://localhost:8080/"
        },
        "id": "uB80RQm0TiYP",
        "outputId": "70d584ee-d081-44cf-e677-5f7dd4e8cee0"
      },
      "execution_count": 8,
      "outputs": [
        {
          "output_type": "stream",
          "name": "stdout",
          "text": [
            "Enter values for list 1:\t0\n",
            "Enter values for list 1:\t1\n",
            "Enter values for list 1:\t22\n",
            "Enter values for list 1:\t-1\n",
            "Enter values for list 2:\t2222\n",
            "Enter values for list 2:\t33\n",
            "Enter values for list 2:\t-11\n",
            "0\n",
            "1\n",
            "22\n",
            "33\n",
            "2222\n"
          ]
        }
      ]
    },
    {
      "cell_type": "markdown",
      "source": [
        "# Lab task 02"
      ],
      "metadata": {
        "id": "Yg2u0TVbV2vF"
      }
    },
    {
      "cell_type": "code",
      "source": [
        " list1 = []\n",
        "list2 = []\n",
        "merged_list = []\n",
        "while True:\n",
        "  s = input(\"Enter values for list 1:\\t\")\n",
        "  num = int(s)\n",
        "  if num < 0:\n",
        "    break;\n",
        "  list1.append(num)\n",
        "while True:\n",
        "  s = input(\"Enter values for list 2:\\t\")\n",
        "  num = int(s)\n",
        "  if num < 0:\n",
        "    break;\n",
        "  list2.append(num)\n",
        "\n",
        "merged_list = list1 + list2\n",
        "merged_list.sort()\n",
        "print(\"Smallest element = \", merged_list[0])\n",
        "print(\"Smallest element = \", merged_list[len(merged_list) -1])"
      ],
      "metadata": {
        "colab": {
          "base_uri": "https://localhost:8080/"
        },
        "id": "yW1ORpk4VmOF",
        "outputId": "e5917506-1c78-4caa-bdc1-5e469787db03"
      },
      "execution_count": 9,
      "outputs": [
        {
          "output_type": "stream",
          "name": "stdout",
          "text": [
            "Enter values for list 1:\t33\n",
            "Enter values for list 1:\t22\n",
            "Enter values for list 1:\t11\n",
            "Enter values for list 1:\t0\n",
            "Enter values for list 1:\t-1\n",
            "Enter values for list 2:\t222\n",
            "Enter values for list 2:\t1\n",
            "Enter values for list 2:\t-11\n",
            "Smallest element =  0\n",
            "Smallest element =  222\n"
          ]
        }
      ]
    },
    {
      "cell_type": "markdown",
      "source": [
        "# Lab task 03"
      ],
      "metadata": {
        "id": "7NL2UGz_WIW8"
      }
    },
    {
      "cell_type": "code",
      "source": [
        "from math import *\n",
        "x_values = []\n",
        "derivative_approx = []\n",
        "increment = 0.001\n",
        "start = -pi\n",
        "end = pi\n",
        "current = start\n",
        "while current <= end:\n",
        "    x_values.append(current)\n",
        "    derivative = (sin(current + increment) - sin(current)) / increment\n",
        "    derivative_approx.append(derivative)\n",
        "    current += increment\n",
        "for i in range(len(x_values)):\n",
        "    print(f\"Derivative approximation at {x_values[i]}: {derivative_approx[i]}, cos(x): {cos(x_values[i])}\")\n",
        "increment = 0.01\n",
        "x_values.clear()\n",
        "derivative_approx.clear()\n",
        "current = start\n",
        "while current <= end:\n",
        "    x_values.append(current)\n",
        "    derivative = (sin(current + increment) - sin(current)) / increment\n",
        "    derivative_approx.append(derivative)\n",
        "    current += increment\n",
        "for i in range(len(x_values)):\n",
        "    print(f\"Derivative approximation at {x_values[i]}: {derivative_approx[i]}, cos(x): {cos(x_values[i])}\")\n",
        "increment = 0.1\n",
        "x_values.clear()\n",
        "derivative_approx.clear()\n",
        "current = start\n",
        "while current <= end:\n",
        "    x_values.append(current)\n",
        "    derivative = (sin(current + increment) - sin(current)) / increment\n",
        "    derivative_approx.append(derivative)\n",
        "    current += increment\n",
        "for i in range(len(x_values)):\n",
        "    print(f\"Derivative approximation at {x_values[i]}: {derivative_approx[i]}, cos(x): {cos(x_values[i])}\")"
      ],
      "metadata": {
        "id": "nrsTirdmWLYl"
      },
      "execution_count": null,
      "outputs": []
    },
    {
      "cell_type": "markdown",
      "source": [
        "# Lab task 04"
      ],
      "metadata": {
        "id": "vRMF3EV6Wg-Z"
      }
    },
    {
      "cell_type": "code",
      "source": [
        "birthday_dict = {\"Albert Einstein\": \"03/14/1879\", \"Benjamin Franklin\": \"01/17/1706\", \"Ada Lovelace\": \"12/10/1815\"}\n",
        "print(\"Welcome to the birthday dictionary. We know the birthdays of:\")\n",
        "print(\"Albert Einstein\")\n",
        "print(\"Benjamin Franklin\")\n",
        "print(\"Ada Lovelace\")\n",
        "name_query = input(\"Who's birthday do you want to look up? \")\n",
        "if name_query in birthday_dict:\n",
        "    print(f\"{name_query}'s birthday is {birthday_dict[name_query]}\")\n",
        "else:\n",
        "    print(\"Name not found\")"
      ],
      "metadata": {
        "id": "qy6RjQuJWidP"
      },
      "execution_count": null,
      "outputs": []
    },
    {
      "cell_type": "markdown",
      "source": [
        "# Lab task 05"
      ],
      "metadata": {
        "id": "_8_7i5UfWk0S"
      }
    },
    {
      "cell_type": "code",
      "source": [
        "sample_dict = {\"name\": \"Kelly\", \"age\": 25, \"salary\": 8000, \"city\": \"New york\"}\n",
        "keys_to_extract = [\"name\", \"salary\"]\n",
        "new_dict = {key: sample_dict[key] for key in keys_to_extract}\n",
        "print(new_dict)"
      ],
      "metadata": {
        "id": "flOPWDXrWm0r"
      },
      "execution_count": null,
      "outputs": []
    }
  ]
}