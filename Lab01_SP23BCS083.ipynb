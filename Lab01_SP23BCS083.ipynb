{
  "nbformat": 4,
  "nbformat_minor": 0,
  "metadata": {
    "colab": {
      "provenance": []
    },
    "kernelspec": {
      "name": "python3",
      "display_name": "Python 3"
    },
    "language_info": {
      "name": "python"
    }
  },
  "cells": [
    {
      "cell_type": "markdown",
      "source": [
        "## Activity 01"
      ],
      "metadata": {
        "id": "bA1GZVpQ2F89"
      }
    },
    {
      "cell_type": "code",
      "execution_count": 1,
      "metadata": {
        "colab": {
          "base_uri": "https://localhost:8080/"
        },
        "id": "S1dBSR9fzp4p",
        "outputId": "8e5137b6-4fd5-45c8-94a6-4562c4793882"
      },
      "outputs": [
        {
          "output_type": "stream",
          "name": "stdout",
          "text": [
            "Enter your number5\n",
            "odd\n"
          ]
        }
      ],
      "source": [
        "num = input(\"Enter your number\")\n",
        "if int(num) % 2 == 0:\n",
        "    print(\"even\")\n",
        "else:\n",
        "    print(\"odd\")"
      ]
    },
    {
      "cell_type": "markdown",
      "source": [
        "#Activity 02\n"
      ],
      "metadata": {
        "id": "H_V2lPnu2TKi"
      }
    },
    {
      "cell_type": "code",
      "source": [
        "sum = 0\n",
        "s = input(\"Enter your number\\t\")\n",
        "num = int(s)\n",
        "while num != 0:\n",
        "    sum += num\n",
        "    s = input(\"Enter your number\\t\")\n",
        "    num = int(s)\n",
        "print(\"Sum = \", sum)"
      ],
      "metadata": {
        "colab": {
          "base_uri": "https://localhost:8080/"
        },
        "id": "9x22cB1Lz910",
        "outputId": "29b89e22-6f69-4f96-b04d-3c100d2ed191"
      },
      "execution_count": 4,
      "outputs": [
        {
          "output_type": "stream",
          "name": "stdout",
          "text": [
            "Enter your number\t5\n",
            "Enter your number\t6\n",
            "Enter your number\t6\n",
            "Enter your number\t10\n",
            "Enter your number\t0\n",
            "Sum =  27\n"
          ]
        }
      ]
    },
    {
      "cell_type": "markdown",
      "source": [
        "# Activity 3\n"
      ],
      "metadata": {
        "id": "Ap-PVMWq2cLZ"
      }
    },
    {
      "cell_type": "code",
      "source": [
        "from math import sqrt\n",
        "divisor = 2\n",
        "s = input(\"Enter your number\\t\")\n",
        "num = int(s)\n",
        "while(divisor <= sqrt(num)):\n",
        "    if(num % divisor == 0):\n",
        "        print(\"Not prime\")\n",
        "        break\n",
        "    divisor += 1\n",
        "else:\n",
        "    print(\"Prime\")"
      ],
      "metadata": {
        "colab": {
          "base_uri": "https://localhost:8080/"
        },
        "id": "HR4jSAnO0eFT",
        "outputId": "2ac7ed2e-6ebc-44d7-b956-f32dd1e83613"
      },
      "execution_count": 8,
      "outputs": [
        {
          "output_type": "stream",
          "name": "stdout",
          "text": [
            "Enter your number\t37\n",
            "Prime\n"
          ]
        }
      ]
    },
    {
      "cell_type": "markdown",
      "source": [
        "# Activity 4"
      ],
      "metadata": {
        "id": "Gp05bmmo2ilM"
      }
    },
    {
      "cell_type": "code",
      "source": [
        "sum = 0\n",
        "for i in range(5):\n",
        "  num = input(\"Enter your number\\t\")\n",
        "  n = int(num)\n",
        "  sum += n\n",
        "print(\"Sum =\", sum)"
      ],
      "metadata": {
        "colab": {
          "base_uri": "https://localhost:8080/"
        },
        "id": "I6GtIcVn2Dn_",
        "outputId": "924205df-48d7-42fb-9752-a4b7b01ce2d2"
      },
      "execution_count": 14,
      "outputs": [
        {
          "output_type": "stream",
          "name": "stdout",
          "text": [
            "Enter your number\t56\n",
            "Enter your number\t56\n",
            "Enter your number\t56\n",
            "Enter your number\t56\n",
            "Enter your number\t56\n",
            "Sum = 280\n"
          ]
        }
      ]
    },
    {
      "cell_type": "markdown",
      "source": [
        "# Activity 5"
      ],
      "metadata": {
        "id": "262DUzE05Xki"
      }
    },
    {
      "cell_type": "code",
      "source": [
        "i = 1\n",
        "sum = 0\n",
        "while i < 11:\n",
        "  sum += i\n",
        "  i += 1\n",
        "print(\"Sum =\",sum)"
      ],
      "metadata": {
        "colab": {
          "base_uri": "https://localhost:8080/"
        },
        "id": "fu2zOYn15aIY",
        "outputId": "b822d2d8-ce60-40d6-e9bb-3c927861e634"
      },
      "execution_count": 15,
      "outputs": [
        {
          "output_type": "stream",
          "name": "stdout",
          "text": [
            "Sum = 55\n"
          ]
        }
      ]
    },
    {
      "cell_type": "markdown",
      "source": [
        "# Activity 6"
      ],
      "metadata": {
        "id": "yad4EEj_6EMI"
      }
    },
    {
      "cell_type": "code",
      "source": [
        "#!/usr/bin/env python3\n",
        "\n",
        "name  =  input('What  is  your  name?  ')\n",
        "print('Hello ' + name)\n",
        "\n",
        "job  =  input('What  is  your  job?  ')\n",
        "print('Your  job  is  '  +  job)\n",
        "\n",
        "num  =  input('Give  me  a  number?  ')\n",
        "print('You said: ' + str(num))"
      ],
      "metadata": {
        "colab": {
          "base_uri": "https://localhost:8080/"
        },
        "id": "b5eOiaYB6HPG",
        "outputId": "958da6a6-1363-4608-daaf-1cb68bbd9d8d"
      },
      "execution_count": 16,
      "outputs": [
        {
          "output_type": "stream",
          "name": "stdout",
          "text": [
            "What  is  your  name?  ali\n",
            "Hello ali\n",
            "What  is  your  job?  student\n",
            "Your  job  is  student\n",
            "Give  me  a  number?  5\n",
            "You said: 5\n"
          ]
        }
      ]
    },
    {
      "cell_type": "markdown",
      "source": [
        "# Activity 7"
      ],
      "metadata": {
        "id": "KOPZZJeO6h8p"
      }
    },
    {
      "cell_type": "code",
      "source": [
        "import random\n",
        "\n",
        "MINIMUM = 1\n",
        "MAXIMUM = 9\n",
        "NUMBER = random.randint(MINIMUM, MAXIMUM)\n",
        "GUESS = None\n",
        "ANOTHER = None\n",
        "TRY = 0\n",
        "RUNNING = True\n",
        "\n",
        "print(\"Alright...\")\n",
        "\n",
        "while RUNNING:\n",
        "    GUESS = input(\"What is your lucky number? \")\n",
        "\n",
        "    if GUESS.lower() == \"exit\":\n",
        "        print(\"Better luck next time.\")\n",
        "        break\n",
        "\n",
        "    if not GUESS.isdigit():\n",
        "        print(\"Please enter a valid number.\")\n",
        "        continue\n",
        "\n",
        "    GUESS = int(GUESS)\n",
        "\n",
        "    if GUESS < NUMBER:\n",
        "        print(\"Wrong, too low.\")\n",
        "    elif GUESS > NUMBER:\n",
        "        print(\"Wrong, too high.\")\n",
        "    elif GUESS == NUMBER:\n",
        "        print(f\"Yes, that's the one, {NUMBER}.\")\n",
        "        if TRY < 2:\n",
        "            print(f\"Impressive, only {TRY} tries.\")\n",
        "        elif 2 <= TRY < 10:\n",
        "            print(f\"Pretty good, {TRY} tries.\")\n",
        "        else:\n",
        "            print(f\"Bad, {TRY} tries.\")\n",
        "        RUNNING = False\n",
        "\n",
        "    TRY += 1"
      ],
      "metadata": {
        "colab": {
          "base_uri": "https://localhost:8080/"
        },
        "id": "4NDO6Kv76kTU",
        "outputId": "b1d8c373-9965-4863-a29e-c271341d787c"
      },
      "execution_count": 17,
      "outputs": [
        {
          "output_type": "stream",
          "name": "stdout",
          "text": [
            "Alright...\n",
            "What is your lucky number? 7\n",
            "Wrong, too high.\n",
            "What is your lucky number? 8\n",
            "Wrong, too high.\n",
            "What is your lucky number? 1\n",
            "Wrong, too low.\n",
            "What is your lucky number? 0\n",
            "Wrong, too low.\n",
            "What is your lucky number? exit\n",
            "Better luck next time.\n"
          ]
        }
      ]
    },
    {
      "cell_type": "markdown",
      "source": [
        "# Lab Task 01"
      ],
      "metadata": {
        "id": "1BOePp_M7GjY"
      }
    },
    {
      "cell_type": "code",
      "source": [
        "num = input(\"Enter your number\\t\")\n",
        "rev_num = \"\"\n",
        "i = len(num) - 1\n",
        "while i >= 0:\n",
        "  rev_num += num[i]\n",
        "  i -= 1\n",
        "print(\"reverse num =\", rev_num)"
      ],
      "metadata": {
        "colab": {
          "base_uri": "https://localhost:8080/"
        },
        "id": "6In7In0Q7nF3",
        "outputId": "86bf1043-b008-48be-92c6-8a83c0da5779"
      },
      "execution_count": 23,
      "outputs": [
        {
          "output_type": "stream",
          "name": "stdout",
          "text": [
            "Enter your number\t6785\n",
            "reverse num = 5876\n"
          ]
        }
      ]
    },
    {
      "cell_type": "markdown",
      "source": [
        "# Lab task 02"
      ],
      "metadata": {
        "id": "bq40YoO08ymj"
      }
    },
    {
      "cell_type": "code",
      "source": [
        "even_sum = 0\n",
        "odd_sum = 0\n",
        "print(\"Enter integers one per line (enter 0 to finish):\")\n",
        "while True:\n",
        "    num = int(input())\n",
        "    if num == 0:\n",
        "        break\n",
        "    if num % 2 == 0:\n",
        "        even_sum += num\n",
        "    else:\n",
        "        odd_sum += num\n",
        "print(f\"Sum of even numbers: {even_sum}\")\n",
        "print(f\"Sum of odd numbers: {odd_sum}\")"
      ],
      "metadata": {
        "colab": {
          "base_uri": "https://localhost:8080/"
        },
        "id": "VuUtyzpZ8heG",
        "outputId": "ced11e32-eeee-4c08-d519-0c643b7ab6a4"
      },
      "execution_count": 24,
      "outputs": [
        {
          "output_type": "stream",
          "name": "stdout",
          "text": [
            "Enter integers one per line (enter 0 to finish):\n",
            "5\n",
            "19\n",
            "23\n",
            "11\n",
            "22\n",
            "33\n",
            "0\n",
            "Sum of even numbers: 22\n",
            "Sum of odd numbers: 91\n"
          ]
        }
      ]
    },
    {
      "cell_type": "markdown",
      "source": [
        "# Lab task 03"
      ],
      "metadata": {
        "id": "C27tZd-zC8wP"
      }
    },
    {
      "cell_type": "code",
      "source": [
        "# iterative version\n",
        "n = int(input(\"Enter number of terms: \"))\n",
        "a = 0\n",
        "b = 1\n",
        "if n >= 1:\n",
        "    print(a, end=\" \")\n",
        "if n >= 2:\n",
        "    print(b, end=\" \")\n",
        "for i in range(2, n):\n",
        "    c = a + b\n",
        "    print(c, end=\" \")\n",
        "    a = b\n",
        "    b = c\n",
        "print()"
      ],
      "metadata": {
        "colab": {
          "base_uri": "https://localhost:8080/"
        },
        "id": "JFWutO8mC-1n",
        "outputId": "56ec867c-d967-47ef-c671-308b13ffe207"
      },
      "execution_count": 25,
      "outputs": [
        {
          "output_type": "stream",
          "name": "stdout",
          "text": [
            "Enter number of terms: 10\n",
            "0 1 1 2 3 5 8 13 21 34 \n"
          ]
        }
      ]
    },
    {
      "cell_type": "code",
      "source": [
        "# recursive version\n",
        "def fib(n):\n",
        "    if n <= 1:\n",
        "        return n\n",
        "    else:\n",
        "        return fib(n-1) + fib(n-2)\n",
        "\n",
        "n = int(input(\"Enter number of terms: \"))\n",
        "for i in range(n):\n",
        "    print(fib(i), end=\" \")\n",
        "print()"
      ],
      "metadata": {
        "colab": {
          "base_uri": "https://localhost:8080/"
        },
        "id": "Zt6SS8rgDX50",
        "outputId": "fa51f4af-1d55-41a8-9910-086331acee20"
      },
      "execution_count": 26,
      "outputs": [
        {
          "output_type": "stream",
          "name": "stdout",
          "text": [
            "Enter number of terms: 10\n",
            "0 1 1 2 3 5 8 13 21 34 \n"
          ]
        }
      ]
    },
    {
      "cell_type": "markdown",
      "source": [
        "# Lab task 04"
      ],
      "metadata": {
        "id": "AlaB9b1jDjEy"
      }
    },
    {
      "cell_type": "code",
      "source": [
        "marks = int(input(\"Enter marks (1-100): \"))\n",
        "\n",
        "if marks >= 1 and marks <= 100:\n",
        "    if marks < 50:\n",
        "        print(\"Grade F\")\n",
        "    elif marks <= 60:\n",
        "        print(\"Grade E\")\n",
        "    elif marks <= 70:\n",
        "        print(\"Grade D\")\n",
        "    elif marks <= 80:\n",
        "        print(\"Grade C\")\n",
        "    elif marks <= 90:\n",
        "        print(\"Grade B\")\n",
        "    else:\n",
        "        print(\"Grade A\")\n",
        "else:\n",
        "    print(\"Invalid marks! Please enter marks between 1 and 100\")"
      ],
      "metadata": {
        "id": "Nu04GugUDma-"
      },
      "execution_count": null,
      "outputs": []
    },
    {
      "cell_type": "markdown",
      "source": [
        "# Lab task 05"
      ],
      "metadata": {
        "id": "-TmPRWvIDxjP"
      }
    },
    {
      "cell_type": "code",
      "source": [
        "# iterative\n",
        "n = int(input(\"Enter a number: \"))\n",
        "fact = 1\n",
        "for i in range(1, n + 1):\n",
        "    fact *= i\n",
        "print(f\"Factorial of {n} is {fact}\")"
      ],
      "metadata": {
        "colab": {
          "base_uri": "https://localhost:8080/"
        },
        "id": "ivx-HbRTD0bM",
        "outputId": "7fb05d7f-c0c6-4254-be9f-6c46967a0ce8"
      },
      "execution_count": 28,
      "outputs": [
        {
          "output_type": "stream",
          "name": "stdout",
          "text": [
            "Enter a number: 5\n",
            "Factorial of 5 is 120\n"
          ]
        }
      ]
    },
    {
      "cell_type": "code",
      "source": [
        "# recursive\n",
        "def factorial(n):\n",
        "    if n == 0 or n == 1:\n",
        "        return 1\n",
        "    else:\n",
        "        return n * factorial(n - 1)\n",
        "\n",
        "n = int(input(\"Enter a number: \"))\n",
        "result = factorial(n)\n",
        "print(f\"Factorial of {n} is {result}\")"
      ],
      "metadata": {
        "colab": {
          "base_uri": "https://localhost:8080/"
        },
        "id": "LUyjnaX6EAgn",
        "outputId": "27b074e6-8d58-4cb9-d9a2-c6b1df96e408"
      },
      "execution_count": 29,
      "outputs": [
        {
          "output_type": "stream",
          "name": "stdout",
          "text": [
            "Enter a number: 5\n",
            "Factorial of 5 is 120\n"
          ]
        }
      ]
    }
  ]
}